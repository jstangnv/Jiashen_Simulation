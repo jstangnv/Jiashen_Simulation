{
 "cells": [
  {
   "cell_type": "code",
   "execution_count": 9,
   "metadata": {},
   "outputs": [
    {
     "name": "stdout",
     "output_type": "stream",
     "text": [
      "[NbConvertApp] Converting notebook nvbloch.ipynb to script\n",
      "[NbConvertApp] Writing 1574 bytes to nvbloch.py\n"
     ]
    }
   ],
   "source": [
    "from nvsys import *\n",
    "!jupyter nbconvert --to script nvbloch.ipynb"
   ]
  },
  {
   "cell_type": "code",
   "execution_count": 4,
   "metadata": {},
   "outputs": [],
   "source": [
    "def nvblochvecs(states, proj0, proj1, projx, times, H_lab, sphere=True):\n",
    "    #------\n",
    "    # Returns bloch vectors\n",
    "    #------\n",
    "    # states - an array of column vectors\n",
    "    # proj0, proj1 and projx must be row vectors\n",
    "    # times - an array of times\n",
    "    # H_lab - square matrix. For conversion into rotating frame.\n",
    "    #\n",
    "    #------\n",
    "    if sphere:\n",
    "        factor_sphere = 2\n",
    "    else:\n",
    "        factor_sphere = 1\n",
    "        \n",
    "    opR = [(1j*H_lab*time_loop).expm() for time_loop in times]\n",
    "    states_rot = [opR[idx]*states[idx] for idx in np.arange(len(times))]\n",
    "\n",
    "    # Convert complex coefficients to polar form \n",
    "    c0 = [(proj0*elem)[0][0][0] for elem in states_rot]\n",
    "    r0, phase0 = np.absolute(c0), np.angle(c0)\n",
    "    c1 = [(proj1*elem)[0][0][0] for elem in states_rot]\n",
    "    r1, phase1 = np.absolute(c1), np.angle(c1)\n",
    "\n",
    "    # Find magntiude of coefficient of other states, for normalization\n",
    "    cx = [(projx*elem)[0][0][0] for elem in states_rot]\n",
    "    rx = np.absolute(cx)\n",
    "\n",
    "    # Calculate 3D polar and azimuthal angles\n",
    "    angle_polar1 = factor_sphere*np.arcsin(r1/((1 - rx**2)**0.5))\n",
    "    angle_polar2 = factor_sphere*np.arccos(r0/((1 - rx**2)**0.5))\n",
    "    angle_polar3 = factor_sphere*np.arctan2(r1, r0)\n",
    "    angle_polar = angle_polar1\n",
    "    angle_azi = phase1 - phase0\n",
    "\n",
    "    xb = np.sin(angle_polar)*np.cos(angle_azi)\n",
    "    yb = np.sin(angle_polar)*np.sin(angle_azi)\n",
    "    zb = np.cos(angle_polar)\n",
    "    \n",
    "    return xb, yb, zb"
   ]
  },
  {
   "cell_type": "code",
   "execution_count": null,
   "metadata": {},
   "outputs": [],
   "source": []
  }
 ],
 "metadata": {
  "kernelspec": {
   "display_name": "Python 3",
   "language": "python",
   "name": "python3"
  },
  "language_info": {
   "codemirror_mode": {
    "name": "ipython",
    "version": 3
   },
   "file_extension": ".py",
   "mimetype": "text/x-python",
   "name": "python",
   "nbconvert_exporter": "python",
   "pygments_lexer": "ipython3",
   "version": "3.7.3"
  }
 },
 "nbformat": 4,
 "nbformat_minor": 2
}
